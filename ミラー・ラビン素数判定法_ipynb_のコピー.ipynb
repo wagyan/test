{
  "nbformat": 4,
  "nbformat_minor": 0,
  "metadata": {
    "colab": {
      "name": "ミラー・ラビン素数判定法.ipynb のコピー",
      "version": "0.3.2",
      "provenance": [],
      "collapsed_sections": [],
      "include_colab_link": true
    },
    "kernelspec": {
      "name": "python3",
      "display_name": "Python 3"
    }
  },
  "cells": [
    {
      "cell_type": "markdown",
      "metadata": {
        "id": "view-in-github",
        "colab_type": "text"
      },
      "source": [
        "[View in Colaboratory](https://colab.research.google.com/github/wagyan/test/blob/master/%E3%83%9F%E3%83%A9%E3%83%BC%E3%83%BB%E3%83%A9%E3%83%93%E3%83%B3%E7%B4%A0%E6%95%B0%E5%88%A4%E5%AE%9A%E6%B3%95_ipynb_%E3%81%AE%E3%82%B3%E3%83%94%E3%83%BC.ipynb)"
      ]
    },
    {
      "metadata": {
        "id": "FG-1tbXt4b96",
        "colab_type": "code",
        "colab": {
          "base_uri": "https://localhost:8080/",
          "height": 680
        },
        "outputId": "f18c10a7-73a1-4b20-9524-4fcac4d82767"
      },
      "cell_type": "code",
      "source": [
        "import random\n",
        "import math\n",
        "import numpy as np\n",
        "\n",
        "def isPrime(num):\n",
        "  k=100\n",
        "  d=mkd(num)  \n",
        "  s=int(math.log2(num/d))\n",
        "  for i in range(k):\n",
        "    a=random.randint(1,num-1)\n",
        "    ard=pow(a,d,num)\n",
        "    if not(ard==1):\n",
        "      c=0\n",
        "      for r in range(0, s):\n",
        "        if not(ard == num-1): c=c+1\n",
        "        ard=(ard*ard) %num\n",
        "      if c==s: return False\n",
        "  return True\n",
        "\n",
        "def mkd(n):\n",
        "  d=n-1\n",
        "  while d&1==0:\n",
        "    d>>=1\n",
        "  return d\n",
        "\n",
        "\n",
        "for i in range(13):\n",
        "  for r in range(13):\n",
        "    x=int(str(i+1) + str(r+1))\n",
        "    if isPrime(x)==True: print(x)\n"
      ],
      "execution_count": 0,
      "outputs": [
        {
          "output_type": "stream",
          "text": [
            "11\n",
            "13\n",
            "17\n",
            "19\n",
            "113\n",
            "23\n",
            "29\n",
            "211\n",
            "31\n",
            "37\n",
            "311\n",
            "313\n",
            "41\n",
            "43\n",
            "47\n",
            "53\n",
            "59\n",
            "61\n",
            "67\n",
            "613\n",
            "71\n",
            "73\n",
            "79\n",
            "83\n",
            "89\n",
            "811\n",
            "97\n",
            "911\n",
            "101\n",
            "103\n",
            "107\n",
            "109\n",
            "1013\n",
            "113\n",
            "127\n",
            "1213\n",
            "131\n",
            "137\n",
            "139\n"
          ],
          "name": "stdout"
        }
      ]
    }
  ]
}